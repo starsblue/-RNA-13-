{
 "cells": [
  {
   "cell_type": "markdown",
   "metadata": {
    "collapsed": false
   },
   "source": [
    "##### For English, please click <a href=\"#header-en\">here</a> to redirect"
   ]
  },
  {
   "cell_type": "markdown",
   "metadata": {
    "collapsed": false
   },
   "source": [
    "<h1 id=\"header-ch\">螺旋桨RNA结构预测竞赛第13名方案</h1>\n",
    "\n",
    "* A. 本代码在基线模型基础上改进，使用方法参考基线模型\n",
    "* B. 模型框架是在原基线模型LSTM的后面，增加一层卷积层，使用的模型为RNN+CNN\n",
    "* C. 参考了基线模型代码和paddlepaddle官方API文档\n"
   ]
  },
  {
   "cell_type": "code",
   "execution_count": null,
   "metadata": {
    "collapsed": false
   },
   "outputs": [],
   "source": [
    "# 检查数据集所在路径\n",
    "!tree /home/aistudio/data"
   ]
  },
  {
   "cell_type": "code",
   "execution_count": null,
   "metadata": {
    "collapsed": false
   },
   "outputs": [],
   "source": [
    "# 检查源代码文件结构\n",
    "# !cd work; mkdir model\n",
    "!tree /home/aistudio/work -L 2"
   ]
  },
  {
   "cell_type": "code",
   "execution_count": 1,
   "metadata": {
    "collapsed": false
   },
   "outputs": [],
   "source": [
    "# To train:\n",
    "# python src/main.py train --model-path-base [model_directory_name]\n",
    "\n",
    "!cd work; python src/main.py train --model-path-base model"
   ]
  },
  {
   "cell_type": "code",
   "execution_count": null,
   "metadata": {
    "collapsed": false
   },
   "outputs": [],
   "source": [
    "# To test 1:\n",
    "# python src/main.py test --model-path-base [saved_model_directory]\n",
    "\n",
    "!cd work; python src/main.py test --model-path-base model/model_dev=0.0688"
   ]
  }
 ],
 "metadata": {
  "kernelspec": {
   "display_name": "PaddlePaddle 2.0.0b0 (Python 3.5)",
   "language": "python",
   "name": "py35-paddle1.2.0"
  },
  "language_info": {
   "codemirror_mode": {
    "name": "ipython",
    "version": 3
   },
   "file_extension": ".py",
   "mimetype": "text/x-python",
   "name": "python",
   "nbconvert_exporter": "python",
   "pygments_lexer": "ipython3",
   "version": "3.7.4"
  }
 },
 "nbformat": 4,
 "nbformat_minor": 1
}
